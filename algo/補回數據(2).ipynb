{
 "cells": [
  {
   "cell_type": "code",
   "execution_count": 1,
   "id": "printable-rachel",
   "metadata": {},
   "outputs": [],
   "source": [
    "import sys\n",
    "import os\n",
    "from pathlib import Path\n",
    "#\n",
    "path_root = Path(os.path.abspath(''))\n",
    "sys.path.insert(1, os.path.join(path_root))\n",
    "#\n",
    "path_root2 = Path(os.path.abspath('')).parent\n",
    "sys.path.insert(1, os.path.join(path_root2))\n",
    "\n",
    "import time\n",
    "import talib\n",
    "import sqlite3 as sqlite3\n",
    "import pandas as pd\n",
    "from util.util import get_ucodes\n",
    "\n",
    "path_sqlite = os.path.join(path_root, 'data', 'aastock', 'sqlite', 'hk-marketwatch.db')\n",
    "if not os.path.exists(path_sqlite):\n",
    "    path_sqlite = os.path.join(path_root2, 'data', 'aastock', 'sqlite', 'hk-marketwatch.db')"
   ]
  },
  {
   "cell_type": "code",
   "execution_count": 2,
   "id": "hydraulic-serve",
   "metadata": {},
   "outputs": [],
   "source": [
    "map = {\n",
    "    '上證50': '000016.SS',\n",
    "    '新华富时A50指数': 'xin9x000'\n",
    "}\n",
    "\n",
    "for k, v in map.items():\n",
    "    df = pd.read_csv(f'{k}.csv')\n",
    "    df['Date']= pd.to_datetime(df['Date']).dt.strftime('%Y-%m-%d')\n",
    "    df = df.sort_values(by='Date', ascending=True)\n",
    "    df.columns = ['stime', 'open', 'high', 'low', 'close']\n",
    "    df['code'] = v\n",
    "    df['volume'] = 0\n",
    "\n",
    "    conn = sqlite3.connect(path_sqlite)\n",
    "    tb_name = 's_' + v.lower().replace('.', '').replace('ss', '').replace('sz', '')\n",
    "\n",
    "    conn.execute(\"DROP TABLE %s\" % tb_name)\n",
    "    conn.execute(\"CREATE TABLE IF NOT EXISTS %s (stime TEXT PRIMARY KEY, code TEXT NOT NULL, close REAL, \"\n",
    "                 \"high REAL, low REAL, open REAL, volume REAL)\" % tb_name)\n",
    "    \n",
    "    stmt = f\"INSERT OR REPLACE INTO {tb_name} (stime, open, high, low, close, code, volume) VALUES (?, ?, ?, ?, ?, ?, ?)\"\n",
    "    conn.executemany(stmt, df.values)\n",
    "    \n",
    "    conn.commit()\n",
    "    conn.close()"
   ]
  },
  {
   "cell_type": "code",
   "execution_count": null,
   "id": "gross-beast",
   "metadata": {},
   "outputs": [],
   "source": []
  }
 ],
 "metadata": {
  "kernelspec": {
   "display_name": "Python 3",
   "language": "python",
   "name": "python3"
  },
  "language_info": {
   "codemirror_mode": {
    "name": "ipython",
    "version": 3
   },
   "file_extension": ".py",
   "mimetype": "text/x-python",
   "name": "python",
   "nbconvert_exporter": "python",
   "pygments_lexer": "ipython3",
   "version": "3.7.4"
  }
 },
 "nbformat": 4,
 "nbformat_minor": 5
}
