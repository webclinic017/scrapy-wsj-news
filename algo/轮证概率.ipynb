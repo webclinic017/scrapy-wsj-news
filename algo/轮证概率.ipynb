{
 "cells": [
  {
   "cell_type": "code",
   "execution_count": 1,
   "id": "industrial-child",
   "metadata": {},
   "outputs": [],
   "source": [
    "import sys\n",
    "import os\n",
    "import pandas as pd\n",
    "from pathlib import Path\n",
    "#\n",
    "path_root = Path(os.path.abspath(''))\n",
    "sys.path.insert(1, os.path.join(path_root))\n",
    "#\n",
    "path_root2 = Path(os.path.abspath('')).parent\n",
    "sys.path.insert(1, os.path.join(path_root2))\n",
    "import talib\n",
    "import sqlite3 as sqlite3\n",
    "import datetime\n",
    "import pandas as pd\n",
    "import numpy as np\n",
    "import matplotlib.pyplot as plt\n",
    "import mplfinance as mpf\n",
    "import matplotlib.font_manager as fm\n",
    "from mplfinance.original_flavor import candlestick_ohlc\n",
    "from util.util import get_ucodes"
   ]
  },
  {
   "cell_type": "code",
   "execution_count": 2,
   "id": "explicit-nerve",
   "metadata": {},
   "outputs": [
    {
     "name": "stdout",
     "output_type": "stream",
     "text": [
      "D:\\PycharmProjects\\scrapy-001\\data\\aastock\\sqlite\\hk-marketwatch.db\n"
     ]
    }
   ],
   "source": [
    "path_sqlite = os.path.join(path_root, 'data', 'aastock', 'sqlite', 'hk-marketwatch.db')\n",
    "if not os.path.exists(path_sqlite):\n",
    "    path_sqlite = os.path.join(path_root2, 'data', 'aastock', 'sqlite', 'hk-marketwatch.db')\n",
    "print(path_sqlite)\n",
    "conn = sqlite3.connect(path_sqlite)\n",
    "cursor = conn.cursor()\n",
    "conn.row_factory = lambda cursor, row: row[0]\n",
    "no_days = 1000"
   ]
  },
  {
   "cell_type": "code",
   "execution_count": 3,
   "id": "friendly-slovak",
   "metadata": {},
   "outputs": [],
   "source": [
    "data1 = {}\n",
    "ucodes = ['hsi', 'hsce', 'hstech', 'ssec', 'szi', 'csi300', 'sp500', 'dji', 'ixic']\n",
    "for ucode in ucodes:\n",
    "    sql = \"\"\"SELECT t.code, t.lot, t.nmll, t.stime, t.high, t.low, t.open, t.close, t.volume\n",
    "                FROM (SELECT n.code, n.lot, n.nmll, c.stime, c.high, c.low, c.open, c.close, c.volume \n",
    "                    FROM s_{} AS c INNER JOIN name AS n \n",
    "                        ON c.code=n.code ORDER BY c.stime DESC LIMIT {}) AS t \n",
    "                            ORDER BY t.stime \"\"\".format(ucode, no_days)\n",
    "    cursor.execute(sql)\n",
    "    columns = ['code', 'lot', 'nmll', 'sdate', 'high', 'low', 'open', 'last', 'vol']\n",
    "    data1[ucode] = pd.DataFrame(cursor.fetchall(), columns=columns)\n",
    "    data1[ucode].index = pd.to_datetime(data1[ucode].sdate)\n",
    "    data1[ucode]['weekday'] = data1[ucode].index.dayofweek\n",
    "    data1[ucode]['pchng'] = data1[ucode]['last'].pct_change()*100\n",
    "conn.close()"
   ]
  },
  {
   "cell_type": "code",
   "execution_count": 4,
   "id": "colored-moscow",
   "metadata": {},
   "outputs": [],
   "source": [
    "data2 = {}\n",
    "data4 = {}\n",
    "for ucode, df in data1.items():\n",
    "    data2[ucode] = {}\n",
    "    data4[ucode] = pd.DataFrame(columns=['Mon', 'Tue', 'Wed', 'Thu', 'Fri'])\n",
    "    for i in [1, 2, 3, 4, 6, 8, 10, 12, 14, 16, 18, 20, 22, 24, 26, 28, 30, 32, 34, 36, 38, 40, 42, 44, 46, 48, 50]:\n",
    "        data3 = []\n",
    "        for j in range(5):\n",
    "            no = df.loc[(df.weekday == j)].shape\n",
    "            if no[0] >= i:\n",
    "                pchng = \"{:.2f}\".format(round(df.loc[(df.weekday == j)]['pchng'].tail(i).mean(), 2))\n",
    "                plast = \"{:.2f}\".format(round(df.loc[(df.weekday == j)]['last'].tail(i).mean(), 2))\n",
    "                sdates = ','.join(df.loc[(df.weekday == j)]['sdate'].tail(i).values.tolist())\n",
    "            else:\n",
    "                pchng = \"\"\n",
    "                plast = \"\"\n",
    "                sdates = \"\"\n",
    "            data3.append(str(pchng)+','+str(plast)+','+sdates)\n",
    "        data2[ucode][i] = data3\n",
    "\n",
    "html = ''\n",
    "for k1, v1 in data2.items():\n",
    "    html += '<tr class=\"thead-light\"><td class=\"h5\" colspan=\"6\">'+k1+'</td></tr>'\n",
    "    html += '<tr><td>Week</td> <td>Mon</td> <td>Tue</td> <td>Wed</td> <td>Thu</td> <td>Fri</td></tr>'\n",
    "    for k2, v2 in v1.items():\n",
    "        html += '<tr><td>'+str(k2)+'</td>'\n",
    "        for v3 in v2:\n",
    "            v3_1 = v3.split(',')\n",
    "            if v3_1[0] == \"\":\n",
    "                html += '<td> / </td>'\n",
    "            elif float(v3_1[0]) <= 0:\n",
    "                html += '<td><span class=\"text-success h6\">('+str(v3_1[0])+') '+v3_1[1]+'</span> &nbsp&nbsp <span class=\"text-white\">'+v3_1[2]+'</span></td>'\n",
    "            elif float(v3_1[0]) > 0:\n",
    "                html += '<td><span class=\"text-danger h6\">(+'+str(v3_1[0])+') '+v3_1[1]+'</span> &nbsp&nbsp <span class=\"text-white\">'+v3_1[2]+'</span></td>'\n",
    "        html += '</tr>'\n",
    "\n",
    "html2 = \"\"\"\n",
    "<html>\n",
    "<head>\n",
    "<title>轮证概率</title>\n",
    "<meta charset=\"UTF-8\">\n",
    "<meta name=\"viewport\" content=\"width=device-width, initial-scale=1.0, user-scalable=no\">\n",
    "<script src=\"https://cdnjs.cloudflare.com/ajax/libs/jquery/3.5.1/jquery.min.js\" integrity=\"sha512-bLT0Qm9VnAYZDflyKcBaQ2gg0hSYNQrJ8RilYldYQ1FxQYoCLtUjuuRuZo+fjqhx/qtq/1itJ0C2ejDxltZVFg==\" crossorigin=\"anonymous\"></script>\n",
    "<link rel=\"stylesheet\" href=\"https://stackpath.bootstrapcdn.com/bootstrap/4.5.2/css/bootstrap.min.css\" integrity=\"sha384-JcKb8q3iqJ61gNV9KGb8thSsNjpSL0n8PARn9HuZOnIxN0hoP+VmmDGMN5t9UJ0Z\" crossorigin=\"anonymous\">\n",
    "</head>\n",
    "<style>\n",
    "td {font-size: 12px;}\n",
    "</style>\n",
    "<body class=\"bg-dark\">\n",
    "<div class=\"container\">\n",
    "\n",
    "<div class=\"row\">\n",
    "<div class=\"col-sm-12\">\n",
    "<table border=\"0\" class=\"table table-sm table-dark table-striped\">\"\"\"+html+\"\"\"</table>\n",
    "</div>\n",
    "</div>\n",
    "\n",
    "</div>\n",
    "</body>\n",
    "</html>\n",
    "\"\"\"\n",
    "\n",
    "path = os.path.join(path_root2, 'algo', '轮证概率.html')\n",
    "writer = open(path, \"w\", encoding=\"utf-8\")\n",
    "writer.write(html2)\n",
    "writer.close()"
   ]
  },
  {
   "cell_type": "code",
   "execution_count": null,
   "id": "agreed-dependence",
   "metadata": {},
   "outputs": [],
   "source": []
  },
  {
   "cell_type": "code",
   "execution_count": null,
   "id": "lovely-stylus",
   "metadata": {},
   "outputs": [],
   "source": []
  },
  {
   "cell_type": "code",
   "execution_count": null,
   "id": "ahead-camera",
   "metadata": {},
   "outputs": [],
   "source": []
  }
 ],
 "metadata": {
  "kernelspec": {
   "display_name": "Python 3",
   "language": "python",
   "name": "python3"
  },
  "language_info": {
   "codemirror_mode": {
    "name": "ipython",
    "version": 3
   },
   "file_extension": ".py",
   "mimetype": "text/x-python",
   "name": "python",
   "nbconvert_exporter": "python",
   "pygments_lexer": "ipython3",
   "version": "3.7.4"
  }
 },
 "nbformat": 4,
 "nbformat_minor": 5
}
